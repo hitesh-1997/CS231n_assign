{
 "cells": [
  {
   "cell_type": "markdown",
   "metadata": {},
   "source": [
    "import numpy as np\n",
    "ls = np.array([[[1,2],[3,4]],[[5,6],[7,8]]])\n",
    "print(ls.shape)"
   ]
  },
  {
   "cell_type": "code",
   "execution_count": 32,
   "metadata": {},
   "outputs": [
    {
     "name": "stdout",
     "output_type": "stream",
     "text": [
      "[[ 0  1  2]\n",
      " [ 1 -3  3]\n",
      " [ 3  6  1]\n",
      " [-5  6 -4]]\n",
      "training for lr and reg =  0.0004    0.3\n",
      "training for lr and reg =  0.0004    0.6\n",
      "training for lr and reg =  0.0004    0.7\n",
      "training for lr and reg =  0.0004    0.9\n",
      "training for lr and reg =  0.0006    0.3\n",
      "training for lr and reg =  0.0006    0.6\n",
      "training for lr and reg =  0.0006    0.7\n",
      "training for lr and reg =  0.0006    0.9\n",
      "training for lr and reg =  0.0008    0.3\n",
      "training for lr and reg =  0.0008    0.6\n",
      "training for lr and reg =  0.0008    0.7\n",
      "training for lr and reg =  0.0008    0.9\n",
      "training for lr and reg =  0.001    0.3\n",
      "training for lr and reg =  0.001    0.6\n",
      "training for lr and reg =  0.001    0.7\n",
      "training for lr and reg =  0.001    0.9\n",
      "training for lr and reg =  0.002    0.3\n",
      "training for lr and reg =  0.002    0.6\n",
      "training for lr and reg =  0.002    0.7\n",
      "training for lr and reg =  0.002    0.9\n"
     ]
    }
   ],
   "source": [
    "import numpy as np \n",
    "from math import e\n",
    "from math import log\n",
    "\n",
    "mat = np.array([[0,1,2],[1,-3,3],[3,6,1],[-5,6,-4]])\n",
    "print(mat)\n",
    "\n",
    "results = {}\n",
    "best_val = -1\n",
    "best_net = None\n",
    "best_params = ()\n",
    "learning_rates = [4e-4,6e-4,8e-4,1e-3,2e-3]\n",
    "reg_strengths = [0.3,0.6,0.7,0.9]\n",
    "\n",
    "hidden_size=75\n",
    "\n",
    "for i in learning_rates:\n",
    "    for j in  reg_strengths:\n",
    "        "
   ]
  },
  {
   "cell_type": "code",
   "execution_count": 89,
   "metadata": {},
   "outputs": [
    {
     "name": "stdout",
     "output_type": "stream",
     "text": [
      "[[ 61  58  52  97]\n",
      " [ 16  25  85  79]\n",
      " [118  43  55 112]\n",
      " [ 13  73 115  49]\n",
      " [ 67 109  76  91]]\n",
      "[array([[ 61,  58,  52,  97],\n",
      "       [ 16,  25,  85,  79],\n",
      "       [118,  43,  55, 112],\n",
      "       [ 13,  73, 115,  49],\n",
      "       [ 67, 109,  76,  91]]), array([[ 1.],\n",
      "       [ 1.],\n",
      "       [ 1.],\n",
      "       [ 1.],\n",
      "       [ 1.]])]\n"
     ]
    }
   ],
   "source": [
    "sample = np.random.choice(train,20,replace=False)\n",
    "# print(sample)\n",
    "sample = sample.reshape(5,2,2)\n",
    "# print(sample.shape)\n",
    "sample = sample.reshape(sample.shape[0],-1)\n",
    "# print(sample.shape)\n",
    "# print(sample)\n",
    "# mean = np.mean(sample,axis=0)\n",
    "# std = np.std(sample,axis=0)\n",
    "# print(mean)\n",
    "# print(sample-mean)\n",
    "print(sample)\n",
    "mqq = np.ones((sample.shape[0],1))\n",
    "print([sample,mqq])\n",
    "# sample = np.hstack((sample,np.ones(sample.shape[0],1)))\n",
    "# pri11nt(sample)"
   ]
  },
  {
   "cell_type": "code",
   "execution_count": 115,
   "metadata": {},
   "outputs": [
    {
     "name": "stdout",
     "output_type": "stream",
     "text": [
      "[[ -2.54396064e-04  -1.61272359e-03  -1.48254892e-03 ...,   8.41606376e-05\n",
      "   -3.67268486e-04   1.75608078e-04]\n",
      " [ -4.51229602e-04  -3.18654094e-04  -5.77864328e-04 ...,   9.99037463e-04\n",
      "   -1.30208443e-03   3.34761799e-05]\n",
      " [ -6.13308761e-04   1.04421079e-03   8.94569721e-05 ...,   1.89694916e-03\n",
      "   -1.33806130e-03   1.18264593e-03]\n",
      " ..., \n",
      " [  1.24949226e-03   7.93932305e-04   1.37134677e-03 ...,   1.64930196e-03\n",
      "   -5.98762386e-04   1.72292540e-04]\n",
      " [ -7.08806118e-04  -3.37157759e-04  -3.42831128e-04 ...,   5.45272841e-04\n",
      "   -1.38977058e-03  -3.64155527e-04]\n",
      " [ -1.10139254e-03   1.57393843e-03  -1.63796939e-04 ...,  -7.53215608e-04\n",
      "    8.05750130e-04   1.29265845e-03]]\n"
     ]
    }
   ],
   "source": [
    "# print(4-53.2)\n",
    "one = np.ones((sample.shape[0],1))\n",
    "t = np.concatenate((one,sample),axis=1)\n",
    "print( np.random.randn(3073, 10)*0.001)"
   ]
  },
  {
   "cell_type": "code",
   "execution_count": 171,
   "metadata": {},
   "outputs": [
    {
     "name": "stdout",
     "output_type": "stream",
     "text": [
      "[[ 0  1  2  3  4]\n",
      " [ 5  6  7  8  9]\n",
      " [10 11 12 13 14]\n",
      " [15 16 17 18 19]]\n",
      "[1 0 3 2]\n",
      "[[ 0  1  2  3  4]\n",
      " [ 1  2  3  4  5]\n",
      " [-2 -1  0  1  2]\n",
      " [-1  0  1  2  3]]\n",
      "[[ 0.  1.  2.  3.  4.]\n",
      " [ 1.  2.  3.  4.  5.]\n",
      " [ 0.  0.  0.  1.  2.]\n",
      " [ 0.  0.  1.  2.  3.]]\n",
      "[[ 0.  0.  2.  3.  4.]\n",
      " [ 0.  2.  3.  4.  5.]\n",
      " [ 0.  0.  0.  0.  2.]\n",
      " [ 0.  0.  0.  2.  3.]]\n"
     ]
    }
   ],
   "source": [
    "x = np.arange(20)\n",
    "scores = x.reshape(4,5)\n",
    "print(scores)\n",
    "y = np.array([1,0,3,2])\n",
    "# y = np.reshape(y,(y.shape[0],1))\n",
    "print(y)\n",
    "\n",
    "scores = scores - (scores[np.arange(4),y]).reshape(4,1)+1\n",
    "print(scores)\n",
    "scores = np.maximum(scores,np.zeros(scores.shape))\n",
    "print(scores)\n",
    "scores[np.arange(4),y]=0\n",
    "print(scores)"
   ]
  },
  {
   "cell_type": "code",
   "execution_count": 151,
   "metadata": {},
   "outputs": [
    {
     "name": "stdout",
     "output_type": "stream",
     "text": [
      "[[1 2]\n",
      " [3 4]\n",
      " [5 6]]\n",
      "[1 4 5]\n"
     ]
    }
   ],
   "source": [
    "x = np.array([[1, 2], [3, 4], [5, 6]])\n",
    "print(x)\n",
    "print(x[[0, 1, 2], [0, 1, 0]])"
   ]
  },
  {
   "cell_type": "code",
   "execution_count": 20,
   "metadata": {},
   "outputs": [
    {
     "name": "stdout",
     "output_type": "stream",
     "text": [
      "[[ 0  5  3  0  0]\n",
      " [ 5  0  0  0  1]\n",
      " [ 6  5  0 23  1]\n",
      " [ 5  4  3  0  1]]\n",
      "[1 0 3 0]\n",
      "(1, 2)\n"
     ]
    }
   ],
   "source": [
    "mat = np.array([[0,5,3,0,0],[5,0,0,0,1],[6,5,0,23,1],[5,4,3,0,1]])\n",
    "print(mat)\n",
    "print(x)\n",
    "y = [1,20]\n",
    "d={}\n",
    "m=1\n",
    "a=9\n",
    "b=8\n",
    "n=2\n",
    "d[(a,b)] = (m,n)\n",
    "print(d[(a,b)])\n"
   ]
  },
  {
   "cell_type": "code",
   "execution_count": 174,
   "metadata": {},
   "outputs": [
    {
     "name": "stdout",
     "output_type": "stream",
     "text": [
      "37\n"
     ]
    }
   ],
   "source": []
  },
  {
   "cell_type": "code",
   "execution_count": 186,
   "metadata": {},
   "outputs": [
    {
     "name": "stdout",
     "output_type": "stream",
     "text": [
      "45\n"
     ]
    }
   ],
   "source": []
  },
  {
   "cell_type": "code",
   "execution_count": null,
   "metadata": {},
   "outputs": [],
   "source": []
  }
 ],
 "metadata": {
  "kernelspec": {
   "display_name": "Python 3",
   "language": "python",
   "name": "python3"
  },
  "language_info": {
   "codemirror_mode": {
    "name": "ipython",
    "version": 3
   },
   "file_extension": ".py",
   "mimetype": "text/x-python",
   "name": "python",
   "nbconvert_exporter": "python",
   "pygments_lexer": "ipython3",
   "version": "3.5.3"
  }
 },
 "nbformat": 4,
 "nbformat_minor": 2
}
