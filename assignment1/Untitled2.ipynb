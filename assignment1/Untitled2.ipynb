{
 "cells": [
  {
   "cell_type": "code",
   "execution_count": 140,
   "metadata": {
    "scrolled": true
   },
   "outputs": [
    {
     "name": "stdout",
     "output_type": "stream",
     "text": [
      "***********************0\n",
      "(3, 5)\n",
      "[[  3.74165739  13.92838828  24.2899156   34.66987165  45.0555213 ]\n",
      " [  2.23606798   8.77496439  19.10497317  29.47880595  39.86226286]\n",
      " [  7.07106781   3.74165739  13.92838828  24.2899156   34.66987165]]\n",
      "**************0\n",
      "[[  3.74165739  13.92838828  24.2899156   34.66987165  45.0555213 ]\n",
      " [  2.23606798   8.77496439  19.10497317  29.47880595  39.86226286]\n",
      " [  7.07106781   3.74165739  13.92838828  24.2899156   34.66987165]]\n",
      "**************0\n",
      "(3, 1)\n",
      "(5,)\n",
      "(3, 5)\n",
      "(3, 5)\n",
      "[[ 14  32  50  68  86]\n",
      " [ 59  77  95 113 131]\n",
      " [158 176 194 212 230]]\n",
      "[[  26   62   98  134  170]\n",
      " [  80  224  368  512  656]\n",
      " [ 134  386  638  890 1142]]\n",
      "(3, 5)\n",
      "[[  3.74165739  13.92838828  24.2899156   34.66987165  45.0555213 ]\n",
      " [  2.23606798   8.77496439  19.10497317  29.47880595  39.86226286]\n",
      " [  7.07106781   3.74165739  13.92838828  24.2899156   34.66987165]]\n"
     ]
    }
   ],
   "source": [
    "import numpy as np\n",
    "\n",
    "mat1 = np.arange(1,30,2)\n",
    "mat2 = np.arange(9)\n",
    "mat1 = np.reshape(mat1,(5,3))\n",
    "mat2 = np.reshape(mat2,(3,3))\n",
    "'''\n",
    "print(mat1)\n",
    "print('**************')\n",
    "print(mat2)\n",
    "print('*****************')\n",
    "print(sum(((mat1[0]-mat2[0])**2)))\n",
    "\n",
    "'''\n",
    "dist = np.zeros((3,5))\n",
    "'''\n",
    "print('*******************')\n",
    "'''\n",
    "for i in range(3):\n",
    "    for j in range(5):\n",
    "        #print('i= %d and j= %d are '%(i,j))\n",
    "        dist[i][j] = math.sqrt(sum((mat2[i]-mat1[j])**2)) \n",
    "        #print('for %d and %d layer is '%(i,j) , (mat2[i]-mat1[j])**2)\n",
    "print('***********************0')\n",
    "print(dist.shape)\n",
    "print(dist)\n",
    "\n",
    "new = np.zeros((3,5))\n",
    "for i in range(3):\n",
    "    new[i:] = np.sqrt(np.sum((mat2[i]-mat1)**2,axis=1))\n",
    "print('**************0')\n",
    "print(new)\n",
    "print('**************0')\n",
    "t1 = (mat2**2).sum(axis=1,keepdims=True)\n",
    "t2 = (mat1**1).sum(axis=1)\n",
    "t3 = 2*(mat2.dot(mat1.T))\n",
    "print(t1.shape)\n",
    "print(t2.shape)\n",
    "t = t1+t2\n",
    "print(t.shape)\n",
    "print(t3.shape)\n",
    "print(t)\n",
    "print(t3)\n",
    "trr = t-t3\n",
    "print(trr.shape)\n",
    "new = np.sqrt((mat2**2).sum(axis=1,keepdims=True)+(mat1**2).sum(axis=1)-2*(mat2.dot(mat1.T)))\n",
    "print(new)"
   ]
  },
  {
   "cell_type": "code",
   "execution_count": 136,
   "metadata": {},
   "outputs": [
    {
     "name": "stdout",
     "output_type": "stream",
     "text": [
      "[[ 1  3  5]\n",
      " [ 7  9 11]\n",
      " [13 15 17]\n",
      " [19 21 23]\n",
      " [25 27 29]]\n",
      "[[0 1 2]\n",
      " [3 4 5]\n",
      " [6 7 8]]\n",
      "[[ 1.          1.73205081  2.23606798]\n",
      " [ 2.64575131  3.          3.31662479]\n",
      " [ 3.60555128  3.87298335  4.12310563]\n",
      " [ 4.35889894  4.58257569  4.79583152]\n",
      " [ 5.          5.19615242  5.38516481]]\n",
      "[[  5]\n",
      " [ 50]\n",
      " [149]]\n",
      "[  35  251  683 1331 2195]\n",
      "[[  40  256  688 1336 2200]\n",
      " [  85  301  733 1381 2245]\n",
      " [ 184  400  832 1480 2344]]\n"
     ]
    }
   ],
   "source": [
    "print(mat1)\n",
    "print(mat2)\n",
    "print(np.sqrt(mat1))\n",
    "#new = (mat1**2).sum(axis=1,keepdims=True)+(mat2**2).sum(axis=1)\n",
    "#print(new)\n",
    "f = (mat2**2).sum(axis=1,keepdims=True)\n",
    "s = (mat1**2).sum(axis=1)\n",
    "print(f)\n",
    "print(s)\n",
    "print(f+s)"
   ]
  },
  {
   "cell_type": "code",
   "execution_count": 176,
   "metadata": {},
   "outputs": [
    {
     "name": "stdout",
     "output_type": "stream",
     "text": [
      "2\n",
      "6\n"
     ]
    }
   ],
   "source": [
    "a = [1,2,3,4,5,6]\n",
    "b = [5,2,6,4,9,7]\n",
    "a = np.array(a)\n",
    "b = np.array(b)\n",
    "print(np.sum(a==b))\n",
    "print(len(a))"
   ]
  },
  {
   "cell_type": "code",
   "execution_count": null,
   "metadata": {},
   "outputs": [],
   "source": []
  }
 ],
 "metadata": {
  "kernelspec": {
   "display_name": "Python 3",
   "language": "python",
   "name": "python3"
  },
  "language_info": {
   "codemirror_mode": {
    "name": "ipython",
    "version": 3
   },
   "file_extension": ".py",
   "mimetype": "text/x-python",
   "name": "python",
   "nbconvert_exporter": "python",
   "pygments_lexer": "ipython3",
   "version": "3.5.3"
  }
 },
 "nbformat": 4,
 "nbformat_minor": 2
}
